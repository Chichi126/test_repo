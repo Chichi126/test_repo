{
 "cells": [
  {
   "cell_type": "code",
   "execution_count": 1,
   "id": "8375abe0-3353-4792-ae11-8e12416747e7",
   "metadata": {},
   "outputs": [],
   "source": [
    "greet = \"my name is chichi\""
   ]
  },
  {
   "cell_type": "code",
   "execution_count": 2,
   "id": "1d88b22e-645c-4e32-a6bd-98f573924f57",
   "metadata": {},
   "outputs": [
    {
     "data": {
      "text/plain": [
       "'my name is chichi'"
      ]
     },
     "execution_count": 2,
     "metadata": {},
     "output_type": "execute_result"
    }
   ],
   "source": [
    "greet"
   ]
  },
  {
   "cell_type": "markdown",
   "id": "97a2e5fb-3ceb-4495-9152-facbe935886f",
   "metadata": {},
   "source": [
    "# Variable"
   ]
  },
  {
   "cell_type": "code",
   "execution_count": 4,
   "id": "b45ddfdb-758d-4695-b3f7-218b00cf642e",
   "metadata": {},
   "outputs": [],
   "source": [
    "\n",
    "titi = 'titi is a fine lady'"
   ]
  },
  {
   "cell_type": "code",
   "execution_count": 5,
   "id": "5508cbdd-e90e-4e91-b0b1-b2701ff3da33",
   "metadata": {},
   "outputs": [
    {
     "data": {
      "text/plain": [
       "'titi is a fine lady'"
      ]
     },
     "execution_count": 5,
     "metadata": {},
     "output_type": "execute_result"
    }
   ],
   "source": [
    "titi"
   ]
  },
  {
   "cell_type": "code",
   "execution_count": 7,
   "id": "9269fbae-601b-4b9b-8fdf-4754c9479cf0",
   "metadata": {},
   "outputs": [],
   "source": [
    "x = 5 + 5\n",
    "X = 4 - 2"
   ]
  },
  {
   "cell_type": "code",
   "execution_count": 8,
   "id": "64cbda95-9528-4f8e-a466-d0b1f25cb01b",
   "metadata": {},
   "outputs": [
    {
     "data": {
      "text/plain": [
       "2"
      ]
     },
     "execution_count": 8,
     "metadata": {},
     "output_type": "execute_result"
    }
   ],
   "source": [
    "X"
   ]
  },
  {
   "cell_type": "code",
   "execution_count": 10,
   "id": "3cf965d3-b57e-4a5a-94b0-7941058b06ad",
   "metadata": {},
   "outputs": [
    {
     "data": {
      "text/plain": [
       "True"
      ]
     },
     "execution_count": 10,
     "metadata": {},
     "output_type": "execute_result"
    }
   ],
   "source": [
    "2 == 2"
   ]
  },
  {
   "cell_type": "markdown",
   "id": "43843c4a-a30b-45cb-9ce9-a3e449a7c69c",
   "metadata": {},
   "source": [
    "# Data Type"
   ]
  },
  {
   "cell_type": "markdown",
   "id": "72fad364-81f2-48a1-8441-54ce9c899e9b",
   "metadata": {},
   "source": [
    "### The data types includes\n",
    "\n",
    "Integer Data Type\n",
    "\n",
    "string Data Type\n",
    "\n",
    "Float Data Type\n",
    "\n",
    "Boolean Data Type"
   ]
  },
  {
   "cell_type": "code",
   "execution_count": 11,
   "id": "252d2411-bd53-4147-9f07-4ae6f60e2fbc",
   "metadata": {},
   "outputs": [],
   "source": [
    "# Integer data type\n",
    "\n",
    "x = 5\n",
    "i = -5\n"
   ]
  },
  {
   "cell_type": "code",
   "execution_count": 12,
   "id": "97816a72-fbc8-4fdb-8aca-45f3313b9ad1",
   "metadata": {},
   "outputs": [
    {
     "data": {
      "text/plain": [
       "-5"
      ]
     },
     "execution_count": 12,
     "metadata": {},
     "output_type": "execute_result"
    }
   ],
   "source": [
    "i"
   ]
  },
  {
   "cell_type": "code",
   "execution_count": 13,
   "id": "1a329474-acd3-427f-9480-ec33fb91a6d2",
   "metadata": {},
   "outputs": [
    {
     "data": {
      "text/plain": [
       "5"
      ]
     },
     "execution_count": 13,
     "metadata": {},
     "output_type": "execute_result"
    }
   ],
   "source": [
    "x"
   ]
  },
  {
   "cell_type": "code",
   "execution_count": 21,
   "id": "c62069f4-18de-4901-997d-87a23565887a",
   "metadata": {},
   "outputs": [
    {
     "data": {
      "text/plain": [
       "str"
      ]
     },
     "execution_count": 21,
     "metadata": {},
     "output_type": "execute_result"
    }
   ],
   "source": [
    "# String Data type\n",
    "\n",
    "text = \"i love cat's but my brother hates cats\"\n",
    "type(text)"
   ]
  },
  {
   "cell_type": "code",
   "execution_count": 17,
   "id": "820b4397-7778-4256-9c7b-71f4bac43814",
   "metadata": {},
   "outputs": [
    {
     "data": {
      "text/plain": [
       "\"i love cat's but my brother hates cats\""
      ]
     },
     "execution_count": 17,
     "metadata": {},
     "output_type": "execute_result"
    }
   ],
   "source": [
    "text"
   ]
  },
  {
   "cell_type": "code",
   "execution_count": 20,
   "id": "ef3debc4-ca6d-4030-819d-89dd1feddfb9",
   "metadata": {},
   "outputs": [
    {
     "data": {
      "text/plain": [
       "float"
      ]
     },
     "execution_count": 20,
     "metadata": {},
     "output_type": "execute_result"
    }
   ],
   "source": [
    "#float data type\n",
    "g = 2.0\n",
    "type(g)"
   ]
  },
  {
   "cell_type": "code",
   "execution_count": 22,
   "id": "21d31299-27e0-45ae-a8a1-94c5e09a05ef",
   "metadata": {},
   "outputs": [],
   "source": [
    "# boolean data type\n",
    "x = 3 == 6"
   ]
  },
  {
   "cell_type": "code",
   "execution_count": 23,
   "id": "246a8ee6-e96e-4d97-832a-b51ad93e14ed",
   "metadata": {},
   "outputs": [
    {
     "data": {
      "text/plain": [
       "False"
      ]
     },
     "execution_count": 23,
     "metadata": {},
     "output_type": "execute_result"
    }
   ],
   "source": [
    "x"
   ]
  },
  {
   "cell_type": "markdown",
   "id": "68fc5944-2925-4c36-ac5b-e086db3b25cd",
   "metadata": {},
   "source": [
    "# Data Structure"
   ]
  },
  {
   "cell_type": "markdown",
   "id": "c454074c-b1b6-4d56-b9d6-81fc1f8a5820",
   "metadata": {},
   "source": [
    "## The data structure includes\n",
    "\n",
    "list data structure\n",
    "\n",
    "set data structure\n",
    "\n",
    "tuple data structure\n",
    "\n",
    "dictionary data structure"
   ]
  },
  {
   "cell_type": "code",
   "execution_count": 24,
   "id": "b1af0bd3-1482-472b-92da-f6a5cb0dd2ef",
   "metadata": {},
   "outputs": [
    {
     "data": {
      "text/plain": [
       "['titi', 'jerry', 'abayomi', 'sam', 'necky', 'laide', 'seyi', 'chichi']"
      ]
     },
     "execution_count": 24,
     "metadata": {},
     "output_type": "execute_result"
    }
   ],
   "source": [
    "# List Data structure\n",
    "\n",
    " # sign of a list []\n",
    "\n",
    "class_name = [ \"titi\", \"jerry\", \"abayomi\", \"sam\", \"necky\", \"laide\", \"seyi\", \"chichi\"]\n",
    "\n",
    "class_name\n"
   ]
  },
  {
   "cell_type": "code",
   "execution_count": 35,
   "id": "3c8dbeac-baa7-4eb5-8e63-0e8ac3bee1cd",
   "metadata": {},
   "outputs": [],
   "source": [
    "class_name = [0,[ \"titi\",20, \"jerry\",12, \"abayomi\", 18, \"sam\",20, \"necky\", 14, \"laide\", 13, \"seyi\",60,  \"chichi\", 80]]"
   ]
  },
  {
   "cell_type": "code",
   "execution_count": 36,
   "id": "84ab378e-328a-453a-b8a4-0cd040725460",
   "metadata": {},
   "outputs": [
    {
     "data": {
      "text/plain": [
       "[0,\n",
       " ['titi',\n",
       "  20,\n",
       "  'jerry',\n",
       "  12,\n",
       "  'abayomi',\n",
       "  18,\n",
       "  'sam',\n",
       "  20,\n",
       "  'necky',\n",
       "  14,\n",
       "  'laide',\n",
       "  13,\n",
       "  'seyi',\n",
       "  60,\n",
       "  'chichi',\n",
       "  80],\n",
       " 'tunde']"
      ]
     },
     "execution_count": 36,
     "metadata": {},
     "output_type": "execute_result"
    }
   ],
   "source": [
    "class_name.append(\"tunde\")\n",
    "class_name"
   ]
  },
  {
   "cell_type": "code",
   "execution_count": 53,
   "id": "10c0eb44-0f0c-49dd-9972-6603b524bbc5",
   "metadata": {},
   "outputs": [
    {
     "data": {
      "text/plain": [
       "('python', 'math', 'english', 'arabic', 'arabic', 'english')"
      ]
     },
     "execution_count": 53,
     "metadata": {},
     "output_type": "execute_result"
    }
   ],
   "source": [
    "# tuple data structure\n",
    "\n",
    "#sign for a tuple structure is ()\n",
    "\n",
    "courses = (\"python\", \"math\", \"english\", \"arabic\", \"arabic\", \"english\")\n",
    "courses"
   ]
  },
  {
   "cell_type": "code",
   "execution_count": 41,
   "id": "da1d615f-ed36-4603-b0da-cc558cbbf3d0",
   "metadata": {},
   "outputs": [
    {
     "ename": "AttributeError",
     "evalue": "'tuple' object has no attribute 'append'",
     "output_type": "error",
     "traceback": [
      "\u001b[0;31m---------------------------------------------------------------------------\u001b[0m",
      "\u001b[0;31mAttributeError\u001b[0m                            Traceback (most recent call last)",
      "Cell \u001b[0;32mIn[41], line 1\u001b[0m\n\u001b[0;32m----> 1\u001b[0m courses\u001b[38;5;241m.\u001b[39mappend(\u001b[38;5;124m\"\u001b[39m\u001b[38;5;124mcrk\u001b[39m\u001b[38;5;124m\"\u001b[39m)\n",
      "\u001b[0;31mAttributeError\u001b[0m: 'tuple' object has no attribute 'append'"
     ]
    }
   ],
   "source": [
    "courses.append(\"crk\")"
   ]
  },
  {
   "cell_type": "code",
   "execution_count": 48,
   "id": "29bd8c22-4df2-400d-beb9-2872a9f600d3",
   "metadata": {},
   "outputs": [],
   "source": [
    "new_courses = list(courses)"
   ]
  },
  {
   "cell_type": "code",
   "execution_count": 49,
   "id": "eb795c63-32cd-4b10-acf3-9d26798b62ac",
   "metadata": {},
   "outputs": [
    {
     "data": {
      "text/plain": [
       "['python', 'math', 'english', 'arabic', 'crk']"
      ]
     },
     "execution_count": 49,
     "metadata": {},
     "output_type": "execute_result"
    }
   ],
   "source": [
    "new_courses.append(\"crk\")\n",
    "new_courses"
   ]
  },
  {
   "cell_type": "code",
   "execution_count": 51,
   "id": "f5638da7-34b7-44ff-97ef-67d6fc895089",
   "metadata": {},
   "outputs": [],
   "source": [
    "## SET data structure\n",
    "# sign is {}\n",
    "x = {\"chichi\",\"chichi\", 3, 3, \"titi\", \"jerry\", 4, 5 , 5}"
   ]
  },
  {
   "cell_type": "code",
   "execution_count": 52,
   "id": "31eb7770-39b6-4bfa-bc44-3cc46f9ed859",
   "metadata": {},
   "outputs": [
    {
     "data": {
      "text/plain": [
       "{3, 4, 5, 'chichi', 'jerry', 'titi'}"
      ]
     },
     "execution_count": 52,
     "metadata": {},
     "output_type": "execute_result"
    }
   ],
   "source": [
    "x"
   ]
  },
  {
   "cell_type": "code",
   "execution_count": 54,
   "id": "0c04be5d-f3fc-4d73-a3be-f51ab8341ace",
   "metadata": {},
   "outputs": [],
   "source": [
    "newest_courses = set(courses)"
   ]
  },
  {
   "cell_type": "code",
   "execution_count": 55,
   "id": "d0f2a761-8b35-4fb3-8db8-9fb726c03bd7",
   "metadata": {},
   "outputs": [
    {
     "data": {
      "text/plain": [
       "{'arabic', 'english', 'math', 'python'}"
      ]
     },
     "execution_count": 55,
     "metadata": {},
     "output_type": "execute_result"
    }
   ],
   "source": [
    "newest_courses "
   ]
  },
  {
   "cell_type": "code",
   "execution_count": null,
   "id": "988ef570-2b4c-4250-9de7-1de1e52e432d",
   "metadata": {},
   "outputs": [],
   "source": [
    "# Create a dictionary\n",
    "my_dict = {'a': 1, 'b': 2, 'c': 3}\n",
    "\n",
    "# Access a value by key\n",
    "print(my_dict['a'])\n",
    "\n",
    "# Add or update a key-value pair\n",
    "my_dict['d'] = 4\n",
    "print(my_dict)\n",
    "\n",
    "# Remove a key-value pair\n",
    "removed_value = my_dict.pop('b')\n",
    "print(\"Removed value:\", removed_value)\n",
    "print(my_dict)\n",
    "\n",
    "# Get: Access a value safely (returns None if key is not found)\n",
    "value = my_dict.get('e', 'Not found')\n",
    "print(\"Value for key 'e':\", value)\n",
    "\n",
    "# Keys, values, and items\n",
    "print(\"Keys:\", my_dict.keys())\n",
    "print(\"Values:\", my_dict.values())\n",
    "print(\"Items:\", my_dict.items())"
   ]
  },
  {
   "cell_type": "code",
   "execution_count": 61,
   "id": "11e2ab60-9d13-4140-9437-93c830e4e86f",
   "metadata": {},
   "outputs": [],
   "source": [
    "# dictionary data structure\n",
    "# sign for dictionary is {}\n",
    "\n",
    "class_names =  {\"name\":\"titi\",\n",
    "                \"age\":20, \n",
    "                \"name2\":\"jerry\",\n",
    "                \"age2\":12, \n",
    "               \"name3\":\"abayomi\", \n",
    "               \"age3\":18, \n",
    "               \"name4\":\"sam\",\n",
    "               \"age4\":20, \n",
    "               \"name5\":\"necky\", \n",
    "               \"age5\":14, }"
   ]
  },
  {
   "cell_type": "code",
   "execution_count": 66,
   "id": "6e1d6d9d-bb4a-4460-9cac-9fa91e4d9e51",
   "metadata": {},
   "outputs": [
    {
     "ename": "TypeError",
     "evalue": "list indices must be integers or slices, not str",
     "output_type": "error",
     "traceback": [
      "\u001b[0;31m---------------------------------------------------------------------------\u001b[0m",
      "\u001b[0;31mTypeError\u001b[0m                                 Traceback (most recent call last)",
      "Cell \u001b[0;32mIn[66], line 4\u001b[0m\n\u001b[1;32m      1\u001b[0m class_names\u001b[38;5;241m.\u001b[39mitems()\n\u001b[0;32m----> 4\u001b[0m x \u001b[38;5;241m=\u001b[39m class_name[\u001b[38;5;124m\"\u001b[39m\u001b[38;5;124mname\u001b[39m\u001b[38;5;124m\"\u001b[39m]\n",
      "\u001b[0;31mTypeError\u001b[0m: list indices must be integers or slices, not str"
     ]
    }
   ],
   "source": [
    "class_names.items()\n"
   ]
  },
  {
   "cell_type": "code",
   "execution_count": 67,
   "id": "23efce4e-7433-43cb-ae33-8bd2ecfcc724",
   "metadata": {},
   "outputs": [
    {
     "data": {
      "text/plain": [
       "True"
      ]
     },
     "execution_count": 67,
     "metadata": {},
     "output_type": "execute_result"
    }
   ],
   "source": [
    "55 == 55"
   ]
  },
  {
   "cell_type": "code",
   "execution_count": 69,
   "id": "4144203b-7cea-47cf-98e3-f80d851a4094",
   "metadata": {},
   "outputs": [
    {
     "data": {
      "text/plain": [
       "False"
      ]
     },
     "execution_count": 69,
     "metadata": {},
     "output_type": "execute_result"
    }
   ],
   "source": [
    "3 != 4"
   ]
  },
  {
   "cell_type": "code",
   "execution_count": 70,
   "id": "7b915dc2-2f73-4947-a3fa-e7df8af576ce",
   "metadata": {},
   "outputs": [],
   "source": [
    "h = \"i love sql\""
   ]
  },
  {
   "cell_type": "code",
   "execution_count": 71,
   "id": "d3d9df3c-284c-4bf8-afe6-19424b6dfadb",
   "metadata": {},
   "outputs": [
    {
     "data": {
      "text/plain": [
       "'i love sql'"
      ]
     },
     "execution_count": 71,
     "metadata": {},
     "output_type": "execute_result"
    }
   ],
   "source": [
    "h\n"
   ]
  },
  {
   "cell_type": "code",
   "execution_count": null,
   "id": "99d26bf5-8929-4613-bd03-d3ba727d7b28",
   "metadata": {},
   "outputs": [],
   "source": [
    "t = 1+ 1"
   ]
  }
 ],
 "metadata": {
  "kernelspec": {
   "display_name": "Python 3 (ipykernel)",
   "language": "python",
   "name": "python3"
  },
  "language_info": {
   "codemirror_mode": {
    "name": "ipython",
    "version": 3
   },
   "file_extension": ".py",
   "mimetype": "text/x-python",
   "name": "python",
   "nbconvert_exporter": "python",
   "pygments_lexer": "ipython3",
   "version": "3.12.4"
  }
 },
 "nbformat": 4,
 "nbformat_minor": 5
}
